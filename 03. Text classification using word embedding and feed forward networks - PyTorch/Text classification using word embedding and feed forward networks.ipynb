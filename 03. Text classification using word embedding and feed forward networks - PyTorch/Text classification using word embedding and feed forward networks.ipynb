{
 "cells": [
  {
   "cell_type": "markdown",
   "id": "78193af5-d52e-45a2-b4a6-536b9e4ef8e7",
   "metadata": {},
   "source": [
    "<h1 align=center> Text classification using word embedding and feed forward networks</h1>"
   ]
  },
  {
   "cell_type": "markdown",
   "id": "d5a25592-bd2a-4d90-ba3d-820e419101fc",
   "metadata": {},
   "source": [
    "In this project we try to perfom the task of text classification, using GloVe word embedding module and classic feed forward neural network. Text classification is a machine learning technique that assigns a set of predefined categories to open-ended text. We will use the <i>HappyDB</i> dataset. HappyDB is a corpus of 100,000 crowd-sourced happy moments gathered by Megagon Labs. <a href=\"https://megagon.ai/happydb-a-happiness-database-of-100000-happy-moments/#:~:text=What%20is%20Happy%20DB%3F,can%20be%20gleaned%20from%20text.\">Click too see website.</a>\n",
    "<br>"
   ]
  },
  {
   "cell_type": "markdown",
   "id": "de067452-e59d-47ca-8a56-51d32d854034",
   "metadata": {
    "tags": []
   },
   "source": [
    "<h3>Imports</h3>"
   ]
  },
  {
   "cell_type": "code",
   "execution_count": 1,
   "id": "277512e9-c42e-4ece-841b-b74039e96934",
   "metadata": {},
   "outputs": [],
   "source": [
    "import pandas as pd\n",
    "import numpy as np\n",
    "import matplotlib.pyplot as plt\n",
    "from nltk.tokenize import word_tokenize\n",
    "import re\n",
    "from sklearn.model_selection import train_test_split\n",
    "import torch\n",
    "from torch.utils.data import DataLoader\n",
    "from torchtext.vocab import GloVe\n",
    "from torch import nn\n",
    "from torch.nn import functional as F\n",
    "from torch.optim import Adam\n",
    "from sklearn.metrics import classification_report, confusion_matrix\n"
   ]
  },
  {
   "cell_type": "markdown",
   "id": "94677c0e-a0ff-490e-84fa-ee94e168189c",
   "metadata": {
    "tags": []
   },
   "source": [
    "<h3>1. Reading and exploring data</h3>\n",
    "\n",
    "In the cells below, we will read and analyse the dataset."
   ]
  },
  {
   "cell_type": "code",
   "execution_count": 2,
   "id": "2f89e4ca-dbd4-475e-bec1-140ba992a76c",
   "metadata": {},
   "outputs": [
    {
     "data": {
      "text/html": [
       "<div>\n",
       "<style scoped>\n",
       "    .dataframe tbody tr th:only-of-type {\n",
       "        vertical-align: middle;\n",
       "    }\n",
       "\n",
       "    .dataframe tbody tr th {\n",
       "        vertical-align: top;\n",
       "    }\n",
       "\n",
       "    .dataframe thead th {\n",
       "        text-align: right;\n",
       "    }\n",
       "</style>\n",
       "<table border=\"1\" class=\"dataframe\">\n",
       "  <thead>\n",
       "    <tr style=\"text-align: right;\">\n",
       "      <th></th>\n",
       "      <th>hmid</th>\n",
       "      <th>wid</th>\n",
       "      <th>reflection_period</th>\n",
       "      <th>original_hm</th>\n",
       "      <th>cleaned_hm</th>\n",
       "      <th>modified</th>\n",
       "      <th>num_sentence</th>\n",
       "      <th>ground_truth_category</th>\n",
       "      <th>predicted_category</th>\n",
       "    </tr>\n",
       "  </thead>\n",
       "  <tbody>\n",
       "    <tr>\n",
       "      <th>0</th>\n",
       "      <td>27673</td>\n",
       "      <td>2053</td>\n",
       "      <td>24h</td>\n",
       "      <td>I went on a successful date with someone I fel...</td>\n",
       "      <td>I went on a successful date with someone I fel...</td>\n",
       "      <td>True</td>\n",
       "      <td>1</td>\n",
       "      <td>NaN</td>\n",
       "      <td>affection</td>\n",
       "    </tr>\n",
       "    <tr>\n",
       "      <th>1</th>\n",
       "      <td>27674</td>\n",
       "      <td>2</td>\n",
       "      <td>24h</td>\n",
       "      <td>I was happy when my son got 90% marks in his e...</td>\n",
       "      <td>I was happy when my son got 90% marks in his e...</td>\n",
       "      <td>True</td>\n",
       "      <td>1</td>\n",
       "      <td>NaN</td>\n",
       "      <td>affection</td>\n",
       "    </tr>\n",
       "    <tr>\n",
       "      <th>2</th>\n",
       "      <td>27675</td>\n",
       "      <td>1936</td>\n",
       "      <td>24h</td>\n",
       "      <td>I went to the gym this morning and did yoga.</td>\n",
       "      <td>I went to the gym this morning and did yoga.</td>\n",
       "      <td>True</td>\n",
       "      <td>1</td>\n",
       "      <td>NaN</td>\n",
       "      <td>exercise</td>\n",
       "    </tr>\n",
       "    <tr>\n",
       "      <th>3</th>\n",
       "      <td>27676</td>\n",
       "      <td>206</td>\n",
       "      <td>24h</td>\n",
       "      <td>We had a serious talk with some friends of our...</td>\n",
       "      <td>We had a serious talk with some friends of our...</td>\n",
       "      <td>True</td>\n",
       "      <td>2</td>\n",
       "      <td>bonding</td>\n",
       "      <td>bonding</td>\n",
       "    </tr>\n",
       "  </tbody>\n",
       "</table>\n",
       "</div>"
      ],
      "text/plain": [
       "    hmid   wid reflection_period  \\\n",
       "0  27673  2053               24h   \n",
       "1  27674     2               24h   \n",
       "2  27675  1936               24h   \n",
       "3  27676   206               24h   \n",
       "\n",
       "                                         original_hm  \\\n",
       "0  I went on a successful date with someone I fel...   \n",
       "1  I was happy when my son got 90% marks in his e...   \n",
       "2       I went to the gym this morning and did yoga.   \n",
       "3  We had a serious talk with some friends of our...   \n",
       "\n",
       "                                          cleaned_hm  modified  num_sentence  \\\n",
       "0  I went on a successful date with someone I fel...      True             1   \n",
       "1  I was happy when my son got 90% marks in his e...      True             1   \n",
       "2       I went to the gym this morning and did yoga.      True             1   \n",
       "3  We had a serious talk with some friends of our...      True             2   \n",
       "\n",
       "  ground_truth_category predicted_category  \n",
       "0                   NaN          affection  \n",
       "1                   NaN          affection  \n",
       "2                   NaN           exercise  \n",
       "3               bonding            bonding  "
      ]
     },
     "execution_count": 2,
     "metadata": {},
     "output_type": "execute_result"
    }
   ],
   "source": [
    "HappyDB = pd.read_csv(\"./cleaned_hm.csv\")\n",
    "HappyDB.head(4)"
   ]
  },
  {
   "cell_type": "markdown",
   "id": "6c268028-8517-4cb9-9c8a-09f03e3b4595",
   "metadata": {},
   "source": [
    "This dataset consist of 100535 rows and 9 columns. We will try to predict the <i>predicted_category</i> column, \n",
    "using <i>cleaned_hm</i> column. The reason that we dont use the <i>ground_truth_category</i> as target variable is that as is can be seen from the below cell, it contains a lot of missing values."
   ]
  },
  {
   "cell_type": "code",
   "execution_count": 3,
   "id": "c0bb2e5b-d823-4373-98f9-e0d6195631ef",
   "metadata": {},
   "outputs": [
    {
     "data": {
      "text/plain": [
       "86410"
      ]
     },
     "execution_count": 3,
     "metadata": {},
     "output_type": "execute_result"
    }
   ],
   "source": [
    "HappyDB['ground_truth_category'].isnull().sum()"
   ]
  },
  {
   "cell_type": "markdown",
   "id": "6af1c172-9c38-4350-98d9-082d55909118",
   "metadata": {},
   "source": [
    "<h4>Plot target variable histogram</h4>"
   ]
  },
  {
   "cell_type": "markdown",
   "id": "a1c508b2-00f4-4078-b81a-3ddd5e29f691",
   "metadata": {},
   "source": [
    "Now we will try to extract our target values and their count in the dataset. As it can be seen, there are 7 target categories and they are completely imbalanced in count."
   ]
  },
  {
   "cell_type": "code",
   "execution_count": 4,
   "id": "5f3acfe8-3bea-42bc-abdd-0017294dbe71",
   "metadata": {},
   "outputs": [
    {
     "data": {
      "text/plain": [
       "<AxesSubplot:>"
      ]
     },
     "execution_count": 4,
     "metadata": {},
     "output_type": "execute_result"
    },
    {
     "data": {
      "image/png": "[encoded data removed]",
      "text/plain": [
       "<Figure size 640x480 with 1 Axes>"
      ]
     },
     "metadata": {},
     "output_type": "display_data"
    }
   ],
   "source": [
    "HappyDB['predicted_category'].value_counts().plot(kind='bar')"
   ]
  },
  {
   "cell_type": "markdown",
   "id": "d77249fa-7fa6-4b6a-af41-8aa2e3eb37da",
   "metadata": {},
   "source": [
    "<h4>Drop data with more than 5 sentences</h4>"
   ]
  },
  {
   "cell_type": "markdown",
   "id": "047d7ab5-2887-423f-b76b-711effff5f04",
   "metadata": {},
   "source": [
    "Now we will consider the <i>num_sentence</i> column. As the histogram suggests, there are a little happy moments with more than 5 sentences. We can drop the rows with more than 5 sentences so we won't deal with very long inputs."
   ]
  },
  {
   "cell_type": "code",
   "execution_count": 5,
   "id": "455d6f65-7b5f-448f-910d-ddc85b507b25",
   "metadata": {},
   "outputs": [
    {
     "data": {
      "image/png": "[encoded data removed]",
      "text/plain": [
       "<Figure size 640x480 with 1 Axes>"
      ]
     },
     "metadata": {},
     "output_type": "display_data"
    }
   ],
   "source": [
    "HappyDB['num_sentence'].value_counts().plot(kind='bar')\n",
    "\n",
    "HappyDB.drop(HappyDB[(HappyDB['num_sentence'] > 5 )].index, inplace=True)"
   ]
  },
  {
   "cell_type": "markdown",
   "id": "a3964843-538a-45e4-9a5b-96e12d07312f",
   "metadata": {},
   "source": [
    "<h4>Encode target variable</h4>"
   ]
  },
  {
   "cell_type": "markdown",
   "id": "8ee20334-cd8b-4cdd-a330-6beebc8fb42f",
   "metadata": {},
   "source": [
    "The target variable consists of categorical data which can not be helpful to our model. So we encode the categorical values with numerical ones. It can be seen that the target value is not integer encoded."
   ]
  },
  {
   "cell_type": "code",
   "execution_count": 6,
   "id": "26382ec1-2f1c-4ea6-b2fb-171099054af3",
   "metadata": {},
   "outputs": [
    {
     "data": {
      "text/html": [
       "<div>\n",
       "<style scoped>\n",
       "    .dataframe tbody tr th:only-of-type {\n",
       "        vertical-align: middle;\n",
       "    }\n",
       "\n",
       "    .dataframe tbody tr th {\n",
       "        vertical-align: top;\n",
       "    }\n",
       "\n",
       "    .dataframe thead th {\n",
       "        text-align: right;\n",
       "    }\n",
       "</style>\n",
       "<table border=\"1\" class=\"dataframe\">\n",
       "  <thead>\n",
       "    <tr style=\"text-align: right;\">\n",
       "      <th></th>\n",
       "      <th>hmid</th>\n",
       "      <th>wid</th>\n",
       "      <th>reflection_period</th>\n",
       "      <th>original_hm</th>\n",
       "      <th>cleaned_hm</th>\n",
       "      <th>modified</th>\n",
       "      <th>num_sentence</th>\n",
       "      <th>ground_truth_category</th>\n",
       "      <th>predicted_category</th>\n",
       "    </tr>\n",
       "  </thead>\n",
       "  <tbody>\n",
       "    <tr>\n",
       "      <th>0</th>\n",
       "      <td>27673</td>\n",
       "      <td>2053</td>\n",
       "      <td>24h</td>\n",
       "      <td>I went on a successful date with someone I fel...</td>\n",
       "      <td>I went on a successful date with someone I fel...</td>\n",
       "      <td>True</td>\n",
       "      <td>1</td>\n",
       "      <td>NaN</td>\n",
       "      <td>1</td>\n",
       "    </tr>\n",
       "    <tr>\n",
       "      <th>1</th>\n",
       "      <td>27674</td>\n",
       "      <td>2</td>\n",
       "      <td>24h</td>\n",
       "      <td>I was happy when my son got 90% marks in his e...</td>\n",
       "      <td>I was happy when my son got 90% marks in his e...</td>\n",
       "      <td>True</td>\n",
       "      <td>1</td>\n",
       "      <td>NaN</td>\n",
       "      <td>1</td>\n",
       "    </tr>\n",
       "    <tr>\n",
       "      <th>2</th>\n",
       "      <td>27675</td>\n",
       "      <td>1936</td>\n",
       "      <td>24h</td>\n",
       "      <td>I went to the gym this morning and did yoga.</td>\n",
       "      <td>I went to the gym this morning and did yoga.</td>\n",
       "      <td>True</td>\n",
       "      <td>1</td>\n",
       "      <td>NaN</td>\n",
       "      <td>4</td>\n",
       "    </tr>\n",
       "    <tr>\n",
       "      <th>3</th>\n",
       "      <td>27676</td>\n",
       "      <td>206</td>\n",
       "      <td>24h</td>\n",
       "      <td>We had a serious talk with some friends of our...</td>\n",
       "      <td>We had a serious talk with some friends of our...</td>\n",
       "      <td>True</td>\n",
       "      <td>2</td>\n",
       "      <td>bonding</td>\n",
       "      <td>2</td>\n",
       "    </tr>\n",
       "  </tbody>\n",
       "</table>\n",
       "</div>"
      ],
      "text/plain": [
       "    hmid   wid reflection_period  \\\n",
       "0  27673  2053               24h   \n",
       "1  27674     2               24h   \n",
       "2  27675  1936               24h   \n",
       "3  27676   206               24h   \n",
       "\n",
       "                                         original_hm  \\\n",
       "0  I went on a successful date with someone I fel...   \n",
       "1  I was happy when my son got 90% marks in his e...   \n",
       "2       I went to the gym this morning and did yoga.   \n",
       "3  We had a serious talk with some friends of our...   \n",
       "\n",
       "                                          cleaned_hm  modified  num_sentence  \\\n",
       "0  I went on a successful date with someone I fel...      True             1   \n",
       "1  I was happy when my son got 90% marks in his e...      True             1   \n",
       "2       I went to the gym this morning and did yoga.      True             1   \n",
       "3  We had a serious talk with some friends of our...      True             2   \n",
       "\n",
       "  ground_truth_category  predicted_category  \n",
       "0                   NaN                   1  \n",
       "1                   NaN                   1  \n",
       "2                   NaN                   4  \n",
       "3               bonding                   2  "
      ]
     },
     "execution_count": 6,
     "metadata": {},
     "output_type": "execute_result"
    }
   ],
   "source": [
    "HappyDB['predicted_category'] = HappyDB['predicted_category'].astype('category')\n",
    "HappyDB['predicted_category'] = HappyDB['predicted_category'].cat.codes\n",
    "\n",
    "HappyDB.head(4)"
   ]
  },
  {
   "cell_type": "markdown",
   "id": "2147b753-7cd2-4f32-85d3-ff4aa7444dd4",
   "metadata": {
    "tags": []
   },
   "source": [
    "<h3>2. Preprocessing</h3>"
   ]
  },
  {
   "cell_type": "markdown",
   "id": "a6c96b6d-11c8-4f2f-b09a-7de709cc772c",
   "metadata": {},
   "source": [
    "Before we obtain X and y values ready to be fed to a model, we have to do some preprocessing on data. Especially on the features, because it contains text values that can not be fed to model directly.\n",
    "<br>\n",
    "\n",
    "<h4>Tokenizing</h4>\n",
    "First of all, we have to tokenize the texts. So we will deal with words, rather can sentences."
   ]
  },
  {
   "cell_type": "code",
   "execution_count": 7,
   "id": "6e0e3b13-f156-42f8-a963-e1044a4e29fa",
   "metadata": {},
   "outputs": [],
   "source": [
    "def tokenize(string):\n",
    "    \n",
    "    return word_tokenize(string)"
   ]
  },
  {
   "cell_type": "markdown",
   "id": "fa58d9df-63ab-432f-978e-11ebdad95a75",
   "metadata": {
    "tags": []
   },
   "source": [
    "<h4>Padding</h4>\n",
    "Then we will have to perfom padding on the tokenized sentences. This means they should all have the same length. Here we will define a maximum length for texts, then we will proceed to pad texts shorter with empty string to meet the required length. And with the case of texts longer than that limit, we will simply just consider the first portion of them."
   ]
  },
  {
   "cell_type": "code",
   "execution_count": 8,
   "id": "169022f1-10fa-4327-8c38-6a23c793c988",
   "metadata": {},
   "outputs": [],
   "source": [
    "max_words = 50"
   ]
  },
  {
   "cell_type": "code",
   "execution_count": 9,
   "id": "45012372-d586-4003-b8b1-b04701fb496b",
   "metadata": {},
   "outputs": [],
   "source": [
    "def pad(tokenized_string, max_length = 50):\n",
    "    \n",
    "    if len(tokenized_string) < max_length:        \n",
    "        tokenized_string += [\"\"] * (max_length - len(tokenized_string))\n",
    "        \n",
    "    elif len(tokenized_string) > max_length:\n",
    "        tokenized_string = tokenized_string[:max_length]\n",
    "        \n",
    "    return tokenized_string"
   ]
  },
  {
   "cell_type": "code",
   "execution_count": 10,
   "id": "d273cf17-55e2-42f6-97a9-e94889bacaef",
   "metadata": {},
   "outputs": [],
   "source": [
    "def preprocess(dataframe):\n",
    "    \n",
    "    X = []\n",
    "    happymoments = dataframe[\"cleaned_hm\"].values.tolist()\n",
    "    \n",
    "    for document in happymoments:\n",
    "        \n",
    "        document = document.lower()\n",
    "        document = tokenize(document)\n",
    "        document = pad(document, max_words)\n",
    "        X.append(document)\n",
    "        \n",
    "    return np.array(X)"
   ]
  },
  {
   "cell_type": "markdown",
   "id": "eb38b3f9-5894-406a-b4e5-134f76b6f5af",
   "metadata": {},
   "source": [
    "That is all for preprocessing here. Now we can get the processed text. And we can also get the target values. By printing $X$ and $y$'s shape, we can see that we have 99545 padded strings in X, each containing 50 words, and we also have 99545 target values."
   ]
  },
  {
   "cell_type": "code",
   "execution_count": 11,
   "id": "73859a28-bc53-4c04-9efb-1fef87ada643",
   "metadata": {},
   "outputs": [
    {
     "name": "stdout",
     "output_type": "stream",
     "text": [
      "(99545, 50)\n",
      "(99545,)\n"
     ]
    }
   ],
   "source": [
    "X = preprocess(HappyDB)\n",
    "y = np.array(HappyDB['predicted_category'].values)\n",
    "\n",
    "print(X.shape)\n",
    "print(y.shape)"
   ]
  },
  {
   "cell_type": "markdown",
   "id": "a75a8336-3092-4a0d-bfb6-29ca84b9c19b",
   "metadata": {
    "tags": []
   },
   "source": [
    "<h3>3. Train-Test split and building DataLoaders</h3>"
   ]
  },
  {
   "cell_type": "markdown",
   "id": "fdab9b71-9469-4e7b-b2ff-bd63dffcb5f4",
   "metadata": {},
   "source": [
    "Now that we have $X$ and $y$, we can split them ro train and text, and we can build the DataLoaders."
   ]
  },
  {
   "cell_type": "markdown",
   "id": "3beef664-dbac-472c-a4c3-b82455ae849c",
   "metadata": {},
   "source": [
    "<h4>Train Test Split</h4>\n",
    "\n",
    "Here we will just use <i>train_test_split</i> function from <i>sklearn</i>. Then we will zip target values with tokenized texts, so they will be ready to be provided as input for DataLoaders."
   ]
  },
  {
   "cell_type": "code",
   "execution_count": 12,
   "id": "da4e8c2a-cdce-4dab-bb7f-b15652a8678a",
   "metadata": {},
   "outputs": [],
   "source": [
    "X_train, X_val, y_train, y_val = train_test_split(X, y, test_size=0.2, random_state=42, shuffle=True)\n",
    "\n",
    "train_data = np.array(list(zip(X_train, y_train)), dtype=object)\n",
    "val_data   = np.array(list(zip(X_val, y_val)), dtype=object)"
   ]
  },
  {
   "cell_type": "markdown",
   "id": "fdf4a6d4-1ba6-4e22-9fc4-2644f2eea157",
   "metadata": {},
   "source": [
    "<h4>Word embedding</h4>"
   ]
  },
  {
   "cell_type": "markdown",
   "id": "90c613b3-930f-4e3f-ad78-b564d7665322",
   "metadata": {},
   "source": [
    "We have $X$ array which contains of set of tokenized words. But we still can not provide them as inputs for models because models are good at working only with numerical data. So we will have to vectorize each word in our $X$ set before we can feed them to the model. Here we will use GloVe word embedding module to vectorize each word."
   ]
  },
  {
   "cell_type": "code",
   "execution_count": 13,
   "id": "bcd695aa-b5b6-491a-8466-8680c1fc5533",
   "metadata": {},
   "outputs": [],
   "source": [
    "GloVe = GloVe(name='840B', dim=300)\n",
    "embed_len = 300"
   ]
  },
  {
   "cell_type": "code",
   "execution_count": 14,
   "id": "97760de7-7969-4471-bb68-c6249fbb81f6",
   "metadata": {},
   "outputs": [],
   "source": [
    "def vectorize(batch):\n",
    "    X, y = list(zip(*batch))\n",
    "        \n",
    "    X_tensor = torch.zeros(len(batch), max_words, embed_len)\n",
    "    for i, tokens in enumerate(X):\n",
    "        X_tensor[i] = GloVe.get_vecs_by_tokens(list(tokens))\n",
    "    return X_tensor.reshape(len(batch), -1), torch.tensor(y, dtype=torch.long)"
   ]
  },
  {
   "cell_type": "markdown",
   "id": "2cd31fd5-19a3-4e6a-ac7c-bc74a9149724",
   "metadata": {},
   "source": [
    "<h4>Making DataLoader</h4>\n",
    "Now we are ready to build the DataLoaders, which will contain training and validating data sets."
   ]
  },
  {
   "cell_type": "code",
   "execution_count": 15,
   "id": "2ac304fd-2d41-4653-9c53-573b7e86edc1",
   "metadata": {},
   "outputs": [],
   "source": [
    "batch_size = 128\n",
    "\n",
    "train_loader = DataLoader(train_data, batch_size=batch_size, collate_fn=vectorize)\n",
    "val_loader   = DataLoader(val_data,   batch_size=batch_size,  collate_fn=vectorize)"
   ]
  },
  {
   "cell_type": "markdown",
   "id": "5af5516f-dd70-4bc7-8373-6f1bd4495711",
   "metadata": {},
   "source": [
    "We can see that we have 15000 features, that is 300 features for 50 words in each string."
   ]
  },
  {
   "cell_type": "code",
   "execution_count": 16,
   "id": "272ffc38-d5e5-4a66-a99c-5c21c2ce06f6",
   "metadata": {},
   "outputs": [
    {
     "name": "stdout",
     "output_type": "stream",
     "text": [
      "torch.Size([128, 15000])\n",
      "torch.Size([128])\n"
     ]
    }
   ],
   "source": [
    "for batch, (X, y) in enumerate(train_loader):\n",
    "    print(X.shape)\n",
    "    print(y.shape)\n",
    "    break"
   ]
  },
  {
   "cell_type": "markdown",
   "id": "2a81e332-4d1d-45d5-90eb-cfd861838da4",
   "metadata": {
    "tags": []
   },
   "source": [
    "<h3>4. Defining model</h3>\n",
    "We are ready to define our model. Our defined model here will be a classic feed forward model with 4 layers ReLU activations."
   ]
  },
  {
   "cell_type": "code",
   "execution_count": 17,
   "id": "a53bf64c-bbf2-4ab0-ab1c-e743e9eba83f",
   "metadata": {},
   "outputs": [],
   "source": [
    "class ClassicMLP(nn.Module):\n",
    "    def __init__(self):\n",
    "        \n",
    "        super(ClassicMLP, self).__init__()\n",
    "        self.layers = nn.Sequential(\n",
    "            nn.Linear(max_words*embed_len, 256),\n",
    "            nn.ReLU(),\n",
    "\n",
    "            nn.Linear(256,128),\n",
    "            nn.ReLU(),\n",
    "\n",
    "            nn.Linear(128,64),\n",
    "            nn.ReLU(),\n",
    "\n",
    "            nn.Linear(64, 7),\n",
    "        )\n",
    "\n",
    "    def forward(self, X):\n",
    "        return self.layers(X)"
   ]
  },
  {
   "cell_type": "markdown",
   "id": "01be93b7-44ba-4b44-aaf7-b63c2bbef0b0",
   "metadata": {},
   "source": [
    "<h4>Defining Hyperparameters, loss function and optimizer</h4>"
   ]
  },
  {
   "cell_type": "code",
   "execution_count": 18,
   "id": "90af2b24-b2e6-41d9-b818-fa5bf1d715e3",
   "metadata": {},
   "outputs": [],
   "source": [
    "n_epochs = 5\n",
    "learning_rate = 1e-3\n",
    "\n",
    "classic_model = ClassicMLP()\n",
    "loss_fn = nn.CrossEntropyLoss()\n",
    "optimizer = Adam(classic_model.parameters(), lr=learning_rate)\n",
    "\n"
   ]
  },
  {
   "cell_type": "markdown",
   "id": "51f8c061-aa8f-4daf-8d70-bf8511c612c1",
   "metadata": {
    "tags": []
   },
   "source": [
    "<h3>5. Training the model</h3>"
   ]
  },
  {
   "cell_type": "markdown",
   "id": "d10adbce-cf4d-41ee-94dc-0af3ad521b2e",
   "metadata": {},
   "source": [
    "<h4>Train Function of model</h4>"
   ]
  },
  {
   "cell_type": "code",
   "execution_count": 19,
   "id": "d72e0028-3c6d-4a11-b9f6-3522d9422b9f",
   "metadata": {},
   "outputs": [],
   "source": [
    "def Train(model, loss_fn, train_loader, optimizer):\n",
    "    \n",
    "    losses = []\n",
    "    \n",
    "    for batch, (X, y) in enumerate(train_loader):\n",
    "        \n",
    "        y_probs = model(X)\n",
    "        loss = loss_fn(y_probs, y)\n",
    "        \n",
    "        losses.append(loss.item())\n",
    "        \n",
    "        optimizer.zero_grad()\n",
    "        loss.backward()\n",
    "        optimizer.step()\n",
    "        \n",
    "    loss = torch.tensor(losses).mean().item()\n",
    "    print(f\"train loss {loss:.3f}\")\n",
    "    return loss"
   ]
  },
  {
   "cell_type": "markdown",
   "id": "78eb4f0c-fc5c-4e8f-94c6-c6969fc41c3c",
   "metadata": {},
   "source": [
    "<h4>Validation Function of model</h4>"
   ]
  },
  {
   "cell_type": "code",
   "execution_count": 20,
   "id": "bbf18040-17f8-4353-93b5-dec4d444d68a",
   "metadata": {},
   "outputs": [],
   "source": [
    "def Validate(model, loss_fn, test_loader):\n",
    "    \n",
    "    losses = []\n",
    "    accurates = 0\n",
    "    n_samples = 0\n",
    "    \n",
    "    with torch.no_grad():\n",
    "        \n",
    "        for batch, (X, y) in enumerate(test_loader):\n",
    "                        \n",
    "            y_probs = model(X)\n",
    "            loss = loss_fn(y_probs, y)\n",
    "            \n",
    "            losses.append(loss.item())\n",
    "            \n",
    "            y_preds = y_probs.argmax(dim=-1)\n",
    "            \n",
    "            accurates += (y == y_preds).sum()\n",
    "            n_samples += y.shape[0]\n",
    "        \n",
    "        loss = torch.tensor(losses).mean().item()\n",
    "        accuracy = 100 * accurates / n_samples\n",
    "        \n",
    "        print(f\"validation loss: {loss:.3f}\")\n",
    "        print(f\"validation accuracy: {accuracy :.3f}%\")\n",
    "        \n",
    "        return loss, accuracy"
   ]
  },
  {
   "cell_type": "markdown",
   "id": "9ec76328-d011-4407-ab28-24141f682f89",
   "metadata": {},
   "source": [
    "<h4>Training loop</h4>"
   ]
  },
  {
   "cell_type": "code",
   "execution_count": 21,
   "id": "4610743d-54fd-4788-be42-c3cb0036913c",
   "metadata": {},
   "outputs": [
    {
     "name": "stdout",
     "output_type": "stream",
     "text": [
      "epoch 1\n",
      "train loss 0.646\n",
      "validation loss: 0.518\n",
      "validation accuracy: 81.536%\n",
      "+----------------------+\n",
      "epoch 2\n",
      "train loss 0.373\n",
      "validation loss: 0.536\n",
      "validation accuracy: 82.289%\n",
      "+----------------------+\n",
      "epoch 3\n",
      "train loss 0.252\n",
      "validation loss: 0.636\n",
      "validation accuracy: 81.215%\n",
      "+----------------------+\n",
      "epoch 4\n",
      "train loss 0.185\n",
      "validation loss: 0.732\n",
      "validation accuracy: 80.607%\n",
      "+----------------------+\n",
      "epoch 5\n",
      "train loss 0.139\n",
      "validation loss: 0.932\n",
      "validation accuracy: 79.678%\n",
      "+----------------------+\n"
     ]
    }
   ],
   "source": [
    "tr_losses = []\n",
    "vl_losses = []\n",
    "accuracies = []\n",
    "\n",
    "for i in range(n_epochs):\n",
    "    \n",
    "    print(f\"epoch {i+1}\")\n",
    "    \n",
    "    tr_loss = Train(classic_model, loss_fn, train_loader, optimizer)\n",
    "    tr_losses.append(tr_loss)\n",
    "    \n",
    "    vl_loss, acc = Validate(classic_model, loss_fn, val_loader)\n",
    "    vl_losses.append(vl_loss)\n",
    "    accuracies.append(acc)\n",
    "    \n",
    "    print(f\"+----------------------+\")"
   ]
  },
  {
   "cell_type": "markdown",
   "id": "81d02891-4035-48e3-a5cf-06f7e524c10c",
   "metadata": {},
   "source": [
    "<h3>6. Evaluating Model</h3>"
   ]
  },
  {
   "cell_type": "markdown",
   "id": "6b9af220-c03e-466c-b278-c8887e840620",
   "metadata": {},
   "source": [
    "We will evaluate the model with plotting its train and validation loss curves. It can be seen that the model started to overfit even with small number of epochs. And the accuracy is not progressing either. It is worth mentioning that with the great imbalance of data that we saw earlier, the accuracy of 80% is not a very good result. These are because the simple feed forward model is not a great model for nlp task."
   ]
  },
  {
   "cell_type": "markdown",
   "id": "10a3a8cd-9467-4121-9143-546b052cb451",
   "metadata": {},
   "source": [
    "<h4>Plotting train and validation losses</h4>"
   ]
  },
  {
   "cell_type": "code",
   "execution_count": 22,
   "id": "f112bffb-6ce2-41c5-a601-aa3129a7ce7d",
   "metadata": {},
   "outputs": [
    {
     "data": {
      "image/png": "[encoded data removed]",
      "text/plain": [
       "<Figure size 640x480 with 1 Axes>"
      ]
     },
     "metadata": {},
     "output_type": "display_data"
    }
   ],
   "source": [
    "plt.plot(tr_losses, label=\"train losses\")\n",
    "plt.plot(vl_losses, label=\"validation losses\")\n",
    "plt.xlabel('epochs')\n",
    "plt.ylabel('loss')\n",
    "plt.legend()\n",
    "plt.show()"
   ]
  },
  {
   "cell_type": "markdown",
   "id": "ff294b5e-2519-4902-9cf1-44d39501f084",
   "metadata": {},
   "source": [
    "<h4>Plotting accuracy</h4>"
   ]
  },
  {
   "cell_type": "code",
   "execution_count": 23,
   "id": "921abd33-5fea-4c8c-9778-fc8fa3f4c981",
   "metadata": {},
   "outputs": [
    {
     "data": {
      "image/png": "[encoded data removed]",
      "text/plain": [
       "<Figure size 640x480 with 1 Axes>"
      ]
     },
     "metadata": {},
     "output_type": "display_data"
    }
   ],
   "source": [
    "plt.plot(accuracies, label=\"test accuracies\", c='g')\n",
    "plt.legend()\n",
    "plt.xlabel('epochs')\n",
    "plt.ylabel('accuracy')\n",
    "plt.show()"
   ]
  }
 ],
 "metadata": {
  "kernelspec": {
   "display_name": "Python 3 (ipykernel)",
   "language": "python",
   "name": "python3"
  },
  "language_info": {
   "codemirror_mode": {
    "name": "ipython",
    "version": 3
   },
   "file_extension": ".py",
   "mimetype": "text/x-python",
   "name": "python",
   "nbconvert_exporter": "python",
   "pygments_lexer": "ipython3",
   "version": "3.10.4"
  }
 },
 "nbformat": 4,
 "nbformat_minor": 5
}
