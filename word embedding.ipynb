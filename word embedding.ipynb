{
 "cells": [
  {
   "cell_type": "markdown",
   "id": "7009ba24-90f7-49d8-81f1-f41740ab642f",
   "metadata": {},
   "source": [
    "# <center>Word Embedding</center>\n",
    "\n",
    "In Natural Language Processing, Word Embedding refers to the procces of representing each word in the form of a real valued vector. These vectors have an interesting property, they encode the meaning of the words. This means the words that have closer meanings will produce closer vectors and vice versa.\n",
    "<br>\n",
    "There are two major pretrained modules for embedding words, namely <b>Word2Vec</b> and <b>GloVe</b>. In this notebook we will explore both of them."
   ]
  },
  {
   "cell_type": "markdown",
   "id": "8d748b0b-bea8-4c7b-b608-ef9584318185",
   "metadata": {},
   "source": [
    "## Word2Vec\n",
    "\n",
    "Word2Vec is one of the most popular implementations of word embedding. The word2vec algorithm uses a neural network model to learn word associations from a large corpus of text. There are two ways of training a Word2Vec model. <a href=https://arxiv.org/abs/1301.3781>Click to see paper.</a>\n",
    "<ol>\n",
    "    <li>Continuous Bag-of-Words (CBow)</li>\n",
    "    <li>Skip-gram</li>\n",
    "</ol>\n",
    "In the CBoW model, the distributed representations of context (or surrounding words) are combined to predict the word in the middle. While in the Skip-gram model, the distributed representation of the input word is used to predict the context."
   ]
  },
  {
   "cell_type": "markdown",
   "id": "c2ac03e9-2bd8-4f1a-8581-8c86698f5cc0",
   "metadata": {},
   "source": [
    "## Exploring Word2Vec Model\n",
    "\n",
    "\n",
    "<h4>1.</h4>\n",
    "Word2Vec model can be downloaded by using the <i>gensim</i> library as below.  <a href=https://pypi.org/project/gensim/>Installation Guide</a>"
   ]
  },
  {
   "cell_type": "code",
   "execution_count": 1,
   "id": "321eca92-401a-409f-adee-e6863e3f417a",
   "metadata": {},
   "outputs": [],
   "source": [
    "import numpy as np\n",
    "from gensim import downloader"
   ]
  },
  {
   "cell_type": "code",
   "execution_count": 2,
   "id": "bc0af741-64a4-45d2-8707-eaed287e670e",
   "metadata": {},
   "outputs": [],
   "source": [
    "word2vec = downloader.load(\"word2vec-google-news-300\")"
   ]
  },
  {
   "cell_type": "markdown",
   "id": "a03f0051-22b4-47f1-8e2f-844de291e98f",
   "metadata": {},
   "source": [
    "<h4>2.</h4>\n",
    "\n",
    "Now we can use the downloaded model to get the embedding of different word. For each word in vocabulary, the model returns a 300-dimentional vector."
   ]
  },
  {
   "cell_type": "code",
   "execution_count": 3,
   "id": "6871ca29-555b-4582-8c6c-974ff41379b7",
   "metadata": {
    "tags": []
   },
   "outputs": [
    {
     "data": {
      "text/plain": [
       "array([ 0.24804688, -0.23339844, -0.15234375, -0.15039062, -0.03515625,\n",
       "       -0.39257812, -0.25585938, -0.32226562,  0.41601562, -0.14746094,\n",
       "        0.31835938, -0.43164062,  0.10009766, -0.16992188, -0.07373047,\n",
       "        0.484375  , -0.04101562,  0.14160156,  0.08105469, -0.08349609,\n",
       "        0.03857422,  0.03295898,  0.06591797, -0.2265625 ,  0.13085938,\n",
       "       -0.15820312, -0.20703125,  0.15917969,  0.22558594, -0.15136719,\n",
       "       -0.30859375, -0.16503906, -0.30078125, -0.24511719, -0.12695312,\n",
       "       -0.16699219, -0.20410156,  0.2109375 , -0.10546875,  0.31054688,\n",
       "        0.14453125,  0.02954102,  0.27539062, -0.08984375,  0.11474609,\n",
       "       -0.31835938,  0.07763672, -0.03051758,  0.34960938, -0.00552368,\n",
       "       -0.109375  ,  0.16894531,  0.40820312, -0.1484375 , -0.15234375,\n",
       "       -0.2265625 , -0.01367188,  0.07324219,  0.203125  ,  0.00448608,\n",
       "        0.375     , -0.18066406, -0.11572266,  0.20703125,  0.13378906,\n",
       "        0.01013184,  0.06347656,  0.05273438,  0.02893066,  0.07421875,\n",
       "       -0.22363281, -0.25195312, -0.19921875,  0.0456543 , -0.37890625,\n",
       "        0.11376953,  0.14746094, -0.26171875,  0.0291748 , -0.01794434,\n",
       "        0.03686523,  0.17871094,  0.12597656, -0.16308594, -0.10742188,\n",
       "       -0.42578125, -0.12207031, -0.13378906,  0.3671875 ,  0.12255859,\n",
       "        0.02734375,  0.07275391, -0.18945312, -0.04003906,  0.21777344,\n",
       "       -0.25585938,  0.0703125 , -0.06542969,  0.03051758, -0.39257812,\n",
       "        0.04199219, -0.23535156,  0.10986328,  0.18847656,  0.30859375,\n",
       "        0.11914062,  0.24609375,  0.04125977,  0.40039062, -0.03588867,\n",
       "       -0.3515625 , -0.01318359, -0.11230469, -0.03540039, -0.2109375 ,\n",
       "       -0.02880859,  0.08447266,  0.38476562, -0.11669922,  0.06494141,\n",
       "       -0.16796875, -0.09375   ,  0.22558594, -0.15625   , -0.11474609,\n",
       "       -0.00291443, -0.25976562, -0.25195312, -0.04980469,  0.18945312,\n",
       "        0.17285156,  0.04150391, -0.20019531,  0.00257874,  0.12207031,\n",
       "       -0.10546875,  0.06494141, -0.29492188,  0.08300781,  0.21191406,\n",
       "       -0.19433594, -0.19042969, -0.06689453, -0.03466797,  0.21191406,\n",
       "       -0.04125977, -0.24121094, -0.1953125 ,  0.04077148, -0.34375   ,\n",
       "        0.20019531,  0.00518799,  0.05224609,  0.08349609, -0.13769531,\n",
       "       -0.24804688,  0.06689453, -0.08154297, -0.05664062,  0.09228516,\n",
       "       -0.07861328,  0.12353516,  0.20898438, -0.11523438, -0.0534668 ,\n",
       "       -0.02392578,  0.10253906, -0.08789062,  0.11865234, -0.21386719,\n",
       "       -0.09667969, -0.08007812, -0.07275391, -0.08984375,  0.06591797,\n",
       "       -0.10107422, -0.08154297, -0.19238281, -0.17089844, -0.03149414,\n",
       "       -0.14648438, -0.22753906, -0.14355469, -0.140625  ,  0.30664062,\n",
       "        0.06103516, -0.0534668 ,  0.21191406, -0.31640625, -0.05541992,\n",
       "        0.14453125,  0.43945312, -0.07958984,  0.328125  , -0.06982422,\n",
       "        0.27929688, -0.15136719, -0.296875  , -0.03112793, -0.23339844,\n",
       "        0.00296021,  0.03051758, -0.33398438, -0.20605469,  0.125     ,\n",
       "       -0.01867676,  0.20996094,  0.24316406, -0.05834961, -0.06347656,\n",
       "       -0.05419922, -0.0222168 ,  0.02246094,  0.0213623 , -0.35546875,\n",
       "        0.0859375 ,  0.02563477,  0.5703125 , -0.10107422,  0.01904297,\n",
       "       -0.29101562, -0.07324219,  0.08056641,  0.22949219,  0.29296875,\n",
       "       -0.04272461, -0.00656128,  0.26367188, -0.29882812,  0.10546875,\n",
       "        0.14453125, -0.07324219, -0.25195312, -0.28320312, -0.04736328,\n",
       "        0.09570312, -0.13867188,  0.09521484,  0.04443359, -0.12890625,\n",
       "        0.125     ,  0.05932617, -0.28515625, -0.31835938,  0.05493164,\n",
       "       -0.09521484, -0.1796875 , -0.14355469,  0.02746582, -0.03222656,\n",
       "       -0.05175781, -0.05834961, -0.12792969, -0.09472656, -0.01293945,\n",
       "       -0.07958984,  0.03881836,  0.171875  ,  0.09716797, -0.35742188,\n",
       "        0.02539062,  0.18847656, -0.125     ,  0.13476562,  0.11376953,\n",
       "        0.06494141, -0.13574219, -0.125     , -0.3359375 ,  0.13867188,\n",
       "       -0.06591797, -0.02832031,  0.18457031, -0.00195312, -0.07128906,\n",
       "       -0.03491211,  0.01586914, -0.01141357, -0.44140625, -0.19628906,\n",
       "       -0.06005859, -0.25585938, -0.14257812, -0.09472656,  0.29882812,\n",
       "       -0.07177734, -0.19433594,  0.34375   , -0.15917969, -0.09375   ,\n",
       "       -0.18164062, -0.25390625,  0.15625   ,  0.02734375,  0.25195312,\n",
       "       -0.09033203, -0.2734375 ,  0.03588867,  0.08349609, -0.2890625 ],\n",
       "      dtype=float32)"
      ]
     },
     "execution_count": 3,
     "metadata": {},
     "output_type": "execute_result"
    }
   ],
   "source": [
    "word2vec['plane']"
   ]
  },
  {
   "cell_type": "markdown",
   "id": "e4b002a4-c88a-4a50-82bf-9a9be405b32e",
   "metadata": {},
   "source": [
    "<h4>3.</h4>\n",
    "\n",
    "Using this model, we can even get the most similar words to a particular word."
   ]
  },
  {
   "cell_type": "code",
   "execution_count": 4,
   "id": "e24cf5bd-bd2f-4206-96fe-a589b00132a9",
   "metadata": {
    "tags": []
   },
   "outputs": [
    {
     "data": {
      "text/plain": [
       "[('apples', 0.720359742641449),\n",
       " ('pear', 0.6450697183609009),\n",
       " ('fruit', 0.6410146355628967),\n",
       " ('berry', 0.6302294731140137),\n",
       " ('pears', 0.6133960485458374),\n",
       " ('strawberry', 0.6058261394500732),\n",
       " ('peach', 0.6025872826576233),\n",
       " ('potato', 0.5960935354232788),\n",
       " ('grape', 0.5935865044593811),\n",
       " ('blueberry', 0.5866668224334717)]"
      ]
     },
     "execution_count": 4,
     "metadata": {},
     "output_type": "execute_result"
    }
   ],
   "source": [
    "word2vec.most_similar(\"apple\")"
   ]
  },
  {
   "cell_type": "markdown",
   "id": "3bcff5e0-b887-4100-ac14-340ab999769a",
   "metadata": {
    "tags": []
   },
   "source": [
    "<h4>4.</h4>\n",
    "\n",
    "Or even we can do more exciting things, such as checking the famous equation <br>\n",
    "<center> $queen - girl + boy = king$ </center>"
   ]
  },
  {
   "cell_type": "code",
   "execution_count": 5,
   "id": "88c12253-1b72-4274-99d3-1e3faf0d8cee",
   "metadata": {},
   "outputs": [
    {
     "data": {
      "text/plain": [
       "[('king', 0.7298423051834106)]"
      ]
     },
     "execution_count": 5,
     "metadata": {},
     "output_type": "execute_result"
    }
   ],
   "source": [
    "word2vec.most_similar(positive=['queen', 'boy'], negative=['girl'], topn=1)"
   ]
  },
  {
   "cell_type": "markdown",
   "id": "fd9bc8d8-b149-4c95-a371-b0880ee4da9b",
   "metadata": {
    "tags": []
   },
   "source": [
    "<h4>5.</h4>\n",
    "\n",
    "Now its time to do something even more exciting. <i> TSNE </i> is a statistical method for reducing the dimention of high dimentional vectors, to 2 or 3. With this method we will be able to actuallt plot the embedded words in a 2D or 3D plot. Lets plot some points!\n",
    "<br>\n",
    "<br>\n",
    "Here we have a small dictionary of words. This dictionary contains words that are either <b>School</b>, <b>Clothing</b> or <b>Fruit</b> related. First, we embedd each word using Word2Vec model, then we project them in 2D space using TSNE. Then we plot them. \n",
    "<br>\n",
    "<br>\n",
    "It can be seen from the plot that words which have closer meaning, are closer in the vector space. Words can be clustered in a way that each cluster represent one group of words. This exciting result indicated that the Word2Vec model aligns with our expectations of a word embedding model."
   ]
  },
  {
   "cell_type": "code",
   "execution_count": 6,
   "id": "ee12382c-8b2a-457b-9c36-7c63dc955885",
   "metadata": {},
   "outputs": [
    {
     "data": {
      "image/png": "[encoded data removed]",
      "text/plain": [
       "<Figure size 640x480 with 1 Axes>"
      ]
     },
     "metadata": {},
     "output_type": "display_data"
    }
   ],
   "source": [
    "from sklearn.manifold import TSNE\n",
    "import seaborn as sns\n",
    "\n",
    "# Words\n",
    "words = ['school', 'student', 'teacher', 'homework', 'book', 'classroom', 'classmates',\\\n",
    "         'fashion', 'clothing', 'jeans', 'dress', 'shoes', 'gown', 'shirt',\\\n",
    "         'banana' ,'orange', 'citron', 'strawberry', 'apple', 'lemon', 'peach']\n",
    "\n",
    "# Label of words (Groups)\n",
    "clusters = ['school'] * 7 + ['clothes'] * 7 + ['fruits'] * 7\n",
    "\n",
    "# Embedding words\n",
    "word_vectors = np.array([word2vec[word] for word in words])\n",
    "\n",
    "# Projecting vectors in 2D space\n",
    "TSNE_model = TSNE(init='random', learning_rate='auto', perplexity = 3, random_state=4)\n",
    "embedded_vectors = TSNE_model.fit_transform(word_vectors)\n",
    "x, y = embedded_vectors[:,0], embedded_vectors[:,1]\n",
    "\n",
    "# Plotting\n",
    "ax = sns.scatterplot(x=x, y=y, hue=clusters, palette='colorblind')\n",
    "for index, word in enumerate(words):\n",
    "    ax.annotate(word, xy=(x[index], y[index]))"
   ]
  },
  {
   "cell_type": "markdown",
   "id": "57dfbe11-e50b-42a4-94f7-553be32d4046",
   "metadata": {},
   "source": [
    "## GloVe\n",
    "GloVe is another model for word embedding. This model uses the global properties of words in a corpus. <a href=https://nlp.stanford.edu/pubs/glove.pdf>See Paper.</a>\n",
    "<br>\n",
    "For this model, training is performed on aggregated global word t word co-occurrence statistics from a corpus, and the resulting representations showcase interesting linear substructures of the word vector space."
   ]
  },
  {
   "cell_type": "markdown",
   "id": "c39c189e-b3b2-4684-b8bf-63831e8bea09",
   "metadata": {
    "tags": []
   },
   "source": [
    "## Exploring Word2Vec Model\n",
    "\n",
    "\n",
    "<h4>1.</h4>\n",
    "GloVe model can be downloaded by using the <i>gensim</i> library as below. The corpus for this model is <a href=https://en.wikipedia.org/>wikipedia.</a>"
   ]
  },
  {
   "cell_type": "code",
   "execution_count": 7,
   "id": "d154b0e9-40a5-47d2-b127-3c6830f8e09b",
   "metadata": {
    "tags": []
   },
   "outputs": [],
   "source": [
    "GloVe = downloader.load('glove-wiki-gigaword-300')"
   ]
  },
  {
   "cell_type": "markdown",
   "id": "7fbf494a-e0ac-4a43-bcb9-da5ffb71d904",
   "metadata": {},
   "source": [
    "<h4>2.</h4>\n",
    "\n",
    "Now that we downloaded the GloVe model, we pretty much can do everything we did on Word2Vec model. So we get the vector representation of a word. "
   ]
  },
  {
   "cell_type": "code",
   "execution_count": 8,
   "id": "41d0b4c7-0f08-48dd-b081-be6d116ebb5b",
   "metadata": {
    "tags": []
   },
   "outputs": [
    {
     "data": {
      "text/plain": [
       "array([ 1.2654e-01, -6.4278e-01, -4.5298e-01, -1.4820e-02, -1.4442e-01,\n",
       "        1.6746e-01, -8.5392e-02, -2.0653e-01,  5.8867e-01, -1.4552e+00,\n",
       "        5.0849e-01,  1.1859e-01,  9.4727e-02, -3.5716e-01,  2.3545e-03,\n",
       "        2.4716e-01, -9.9644e-02,  1.8471e-01, -2.7065e-01,  9.1557e-01,\n",
       "       -5.3791e-01,  4.9689e-01, -3.9529e-01,  9.1110e-02, -3.2922e-01,\n",
       "        6.7927e-02,  3.6384e-01,  6.8760e-01, -4.6816e-01, -4.1416e-01,\n",
       "        7.1162e-01,  3.4765e-01, -8.1837e-01, -6.7352e-01,  4.4033e-01,\n",
       "       -5.3426e-02,  2.7713e-01,  2.2645e-02, -3.6503e-02,  4.5222e-01,\n",
       "       -5.3126e-01,  7.6748e-02,  2.1450e-01,  1.5700e-01,  6.1417e-02,\n",
       "        3.0464e-01,  8.0843e-01,  1.3985e-01,  3.8982e-01, -1.8201e-01,\n",
       "       -3.2407e-02,  1.0731e-01,  5.6028e-01, -6.6759e-01,  1.8634e-02,\n",
       "        4.2655e-01,  2.5388e-01,  1.5547e-01,  1.1796e-02,  2.8300e-01,\n",
       "       -2.6325e-01,  3.6569e-01,  9.5695e-01, -8.9697e-02,  4.3428e-01,\n",
       "       -2.6370e-01, -5.2575e-01,  3.7261e-01, -7.9395e-01,  2.4418e-01,\n",
       "        1.5395e-01,  2.7281e-01, -2.6515e-01,  6.4414e-02, -4.2912e-01,\n",
       "       -1.5013e-02,  4.8268e-02, -5.1984e-01, -3.0186e-01, -2.5080e-03,\n",
       "        1.3848e-01,  2.3534e-01, -6.0216e-01,  3.8053e-01, -4.0376e-01,\n",
       "        2.1909e-02,  3.4569e-01,  3.2639e-01, -5.4131e-02, -1.0046e+00,\n",
       "       -1.2785e-01, -3.1748e-01,  4.2490e-02, -4.4551e-01, -5.4162e-01,\n",
       "        4.7274e-01,  2.4969e-01, -9.4885e-02, -1.0793e-01,  6.4517e-02,\n",
       "        1.3905e-01,  6.4090e-01,  3.6692e-01, -3.2632e-02,  8.3560e-02,\n",
       "        3.6835e-01,  4.3834e-01, -2.8115e-01,  6.3295e-01, -2.0828e-04,\n",
       "       -1.7643e-01, -7.7620e-01,  2.0099e-01,  2.2941e-01,  8.9192e-02,\n",
       "        4.3521e-02,  2.9474e-01,  1.7100e-01, -1.6390e-01, -5.1145e-02,\n",
       "       -1.5406e-01, -4.8799e-01, -4.8511e-01,  4.1051e-01,  1.3077e-01,\n",
       "        1.6313e-01,  3.5169e-01, -4.8752e-02,  4.4790e-02, -2.0756e-02,\n",
       "       -3.7748e-01,  4.4076e-01,  4.6283e-01, -4.5300e-02,  8.4274e-02,\n",
       "        7.3256e-02, -8.0333e-03,  2.4747e-02, -3.5315e-01,  2.1003e-01,\n",
       "        2.3391e-01, -1.6809e-02, -9.8672e-02, -1.1368e-01, -6.6124e-01,\n",
       "        9.3041e-02,  2.5566e-01,  3.7712e-01,  5.9124e-02, -3.0083e-02,\n",
       "        5.0825e-01,  9.4352e-03,  4.0188e-01, -6.6779e-01,  9.1501e-01,\n",
       "       -8.2530e-02, -2.3313e-01, -9.0460e-02, -1.2218e-01, -1.6805e-03,\n",
       "       -7.9133e-02, -7.1782e-01,  3.4776e-01, -4.5976e-02, -8.7030e-03,\n",
       "       -5.2795e-01,  5.1685e-01,  2.8729e-01, -3.3634e-02,  1.1660e+00,\n",
       "        8.6722e-02, -1.6253e-01,  3.2501e-02, -1.0360e-02, -2.2214e-01,\n",
       "        8.1795e-04, -6.0859e-02,  2.0063e-01, -1.9650e-01, -5.8212e-01,\n",
       "       -3.8278e-01, -2.2349e-02,  4.3615e-01,  4.9794e-01,  5.6512e-01,\n",
       "       -8.3788e-01,  5.0250e-01,  5.3170e-01, -5.0088e-01, -3.2481e-01,\n",
       "        1.8750e-01,  3.5206e-01,  4.6742e-02, -5.9874e-01,  2.4626e-01,\n",
       "        3.9318e-01,  1.6115e-01, -6.3691e-01, -5.3225e-01,  6.3615e-03,\n",
       "        1.0814e+00, -2.9425e-01, -2.6725e-01, -3.8580e-01,  2.9645e-01,\n",
       "        1.5522e-01,  2.0024e-01,  8.1816e-02,  2.8841e-01,  3.8256e-02,\n",
       "        1.1337e-02,  1.8523e-01,  4.1637e-02, -2.8792e-01, -2.9788e-02,\n",
       "       -4.1812e-03,  9.4206e-02, -2.7948e-01,  1.4653e-01, -3.1512e-01,\n",
       "        9.6574e-01,  1.1238e-01,  1.0090e-01, -2.4089e-01, -3.0713e-02,\n",
       "       -1.7717e-02, -1.7703e-01, -7.8777e-01, -4.3104e-01,  8.3332e-02,\n",
       "        6.5787e-01, -3.1237e-02, -3.3506e-01,  1.8314e-02,  4.8897e-01,\n",
       "       -2.4356e-01, -3.3220e-02,  2.4561e-02,  2.5753e-01, -1.1743e-01,\n",
       "       -7.7091e-01,  3.4124e-01,  3.3815e-02,  2.2196e-01, -5.2384e-01,\n",
       "        2.8841e-01,  1.0314e-01, -5.5186e-02,  1.4131e-01,  2.4232e-01,\n",
       "        3.9170e-02,  9.8976e-03,  2.3930e-01,  2.8714e-01, -3.8287e-01,\n",
       "        1.8884e-02,  3.1576e-01, -2.5749e-02,  1.2740e-01,  3.4133e-01,\n",
       "       -3.1354e-02, -3.9798e-01, -6.1834e-01, -2.1680e-01,  2.4066e-01,\n",
       "        3.6378e-04,  1.1814e-01,  4.8181e-02,  2.2829e-01,  1.2995e-02,\n",
       "        5.0102e-01,  4.7875e-02, -1.1015e-01,  1.6912e-01,  7.4292e-01,\n",
       "        3.6020e-01, -1.4232e+00,  7.0882e-01,  1.3768e-01, -5.9761e-02,\n",
       "       -3.1013e-01,  7.0229e-01, -3.0183e-01, -4.1306e-01, -3.0985e-01,\n",
       "       -3.9634e-01, -2.6930e-01, -3.7614e-01,  2.7676e-01, -3.5539e-01,\n",
       "       -3.9281e-01,  3.2590e-01, -4.6416e-01, -2.9653e-02,  3.8693e-02,\n",
       "        3.6002e-01,  9.9722e-02,  3.7377e-03,  3.4064e-01, -1.8739e-01],\n",
       "      dtype=float32)"
      ]
     },
     "execution_count": 8,
     "metadata": {},
     "output_type": "execute_result"
    }
   ],
   "source": [
    "GloVe['ocean']"
   ]
  },
  {
   "cell_type": "markdown",
   "id": "48832954-5c69-45c5-b45b-7d77f3283887",
   "metadata": {},
   "source": [
    "<h4>3.</h4>\n",
    "\n",
    "Getting the similar words to a particular word."
   ]
  },
  {
   "cell_type": "code",
   "execution_count": 9,
   "id": "3ab6226b-082d-4f3c-a75e-38583acab14a",
   "metadata": {},
   "outputs": [
    {
     "data": {
      "text/plain": [
       "[('mars', 0.6063024997711182),\n",
       " ('lunar', 0.5746049880981445),\n",
       " ('earth', 0.5696071982383728),\n",
       " ('ki', 0.5655298233032227),\n",
       " ('spacecraft', 0.5030633211135864),\n",
       " ('planet', 0.4963635206222534),\n",
       " ('orbit', 0.4882160723209381),\n",
       " ('sun', 0.48067277669906616),\n",
       " ('jupiter', 0.48065876960754395),\n",
       " ('saturn', 0.4672008156776428)]"
      ]
     },
     "execution_count": 9,
     "metadata": {},
     "output_type": "execute_result"
    }
   ],
   "source": [
    "GloVe.most_similar(\"moon\")"
   ]
  },
  {
   "cell_type": "markdown",
   "id": "4bf6ddcc-5d01-498b-b238-171eacf657d2",
   "metadata": {},
   "source": [
    "<h4>4.</h4>\n",
    "\n",
    "Checking the equation <br>\n",
    "<center> $queen - girl + boy = king$ </center>"
   ]
  },
  {
   "cell_type": "code",
   "execution_count": 12,
   "id": "200c648a-5217-4d15-a687-fab03fd015ad",
   "metadata": {},
   "outputs": [
    {
     "data": {
      "text/plain": [
       "[('king', 0.6770139932632446)]"
      ]
     },
     "execution_count": 12,
     "metadata": {},
     "output_type": "execute_result"
    }
   ],
   "source": [
    "GloVe.most_similar(positive=['queen', 'boy'], negative=['girl'], topn=1)"
   ]
  },
  {
   "cell_type": "markdown",
   "id": "9f29e380-a8b5-459a-bb44-109a52d4b53a",
   "metadata": {},
   "source": [
    "<h4>5.</h4>\n",
    "\n",
    "The most exciting part, visualizing low dimention vectors."
   ]
  },
  {
   "cell_type": "code",
   "execution_count": 11,
   "id": "6956641f-91b0-4fba-a4f1-90ec3ed715b1",
   "metadata": {},
   "outputs": [
    {
     "data": {
      "image/png": "[encoded data removed]",
      "text/plain": [
       "<Figure size 640x480 with 1 Axes>"
      ]
     },
     "metadata": {},
     "output_type": "display_data"
    }
   ],
   "source": [
    "from sklearn.manifold import TSNE\n",
    "import seaborn as sns\n",
    "\n",
    "# Words\n",
    "words = ['school', 'student', 'teacher', 'homework', 'book', 'classroom', 'classmates',\\\n",
    "         'fashion', 'clothing', 'jeans', 'dress', 'shoes', 'gown', 'shirt',\\\n",
    "         'banana' ,'orange', 'citron', 'strawberry', 'apple', 'lemon', 'peach']\n",
    "\n",
    "# Label of words (Groups)\n",
    "clusters = ['school'] * 7 + ['clothes'] * 7 + ['fruits'] * 7\n",
    "\n",
    "# Embedding words\n",
    "word_vectors = np.array([GloVe[word] for word in words])\n",
    "\n",
    "# Projecting vectors in 2D space\n",
    "TSNE_model = TSNE(init='random', learning_rate='auto', perplexity = 3, random_state=4)\n",
    "embedded_vectors = TSNE_model.fit_transform(word_vectors)\n",
    "x, y = embedded_vectors[:,0], embedded_vectors[:,1]\n",
    "\n",
    "# Plotting\n",
    "ax = sns.scatterplot(x=x, y=y, hue=clusters, palette='colorblind')\n",
    "for index, word in enumerate(words):\n",
    "    ax.annotate(word, xy=(x[index], y[index]))"
   ]
  },
  {
   "cell_type": "code",
   "execution_count": null,
   "id": "0e5e2e21-1d7a-4061-b687-d9b503d5610a",
   "metadata": {},
   "outputs": [],
   "source": []
  }
 ],
 "metadata": {
  "kernelspec": {
   "display_name": "Python 3 (ipykernel)",
   "language": "python",
   "name": "python3"
  },
  "language_info": {
   "codemirror_mode": {
    "name": "ipython",
    "version": 3
   },
   "file_extension": ".py",
   "mimetype": "text/x-python",
   "name": "python",
   "nbconvert_exporter": "python",
   "pygments_lexer": "ipython3",
   "version": "3.10.4"
  }
 },
 "nbformat": 4,
 "nbformat_minor": 5
}
